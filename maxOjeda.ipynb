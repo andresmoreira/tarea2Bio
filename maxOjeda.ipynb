{
 "cells": [
  {
   "cell_type": "markdown",
   "id": "c4749fb0",
   "metadata": {},
   "source": [
    "# Tarea 2 Maximiliano Ojeda - 201773576-7"
   ]
  },
  {
   "cell_type": "markdown",
   "id": "5f4c13ad",
   "metadata": {},
   "source": [
    "## Funciones"
   ]
  },
  {
   "cell_type": "code",
   "execution_count": 359,
   "id": "d86f9d6f",
   "metadata": {},
   "outputs": [],
   "source": [
    "from Bio.Data.CodonTable import unambiguous_dna_by_id\n",
    "from Bio.Seq import Seq\n",
    "\n",
    "\n",
    "def altcodons(codon, table):\n",
    "    \"\"\"List codons that code for the same aminonacid / are also stop.\n",
    "\n",
    "    @param codon\n",
    "    @table code table id\n",
    "    @return list of codons\n",
    "\n",
    "    \"\"\"\n",
    "    tab = unambiguous_dna_by_id[table]\n",
    "\n",
    "    if codon in tab.stop_codons:\n",
    "        return tab.stop_codons\n",
    "\n",
    "    try:\n",
    "        aa = tab.forward_table[codon]\n",
    "    except:\n",
    "        return []\n",
    "\n",
    "    return [\n",
    "        k\n",
    "        for (k, v) in tab.forward_table.items()\n",
    "        if v == aa and k[0] == codon[0] and k[1] == codon[1]\n",
    "    ]\n",
    "\n",
    "\n",
    "def degeneration(codon, table):\n",
    "    \"\"\"Determine how many codons code for the same amino acid / are also stop\n",
    "\n",
    "    @param codon the codon\n",
    "    @param table code table id\n",
    "    @param the number of codons also coding for the amino acid codon codes for\n",
    "\n",
    "    \"\"\"\n",
    "    return len(altcodons(codon, table))\n",
    "\n",
    "\n",
    "def is_x_degenerated(x, codon, table):\n",
    "    \"\"\"Determine if codon is x-fold degenerated.\n",
    "\n",
    "    @param codon the codon\n",
    "    @param table code table id\n",
    "    @param true if x <= the degeneration of the codon\n",
    "\n",
    "    \"\"\"\n",
    "    return x <= len(altcodons(codon, table))\n",
    "\n",
    "\n",
    "def degenerated_subseq(seq, x, table):\n",
    "    \"\"\"Get a subsequence consisting of the x-fold degenerated codons only.\"\"\"\n",
    "    data = \"\"\n",
    "    for i in range(0, len(seq), 3):\n",
    "        codon = seq[i : i + 3].tostring()\n",
    "        if isXdegenerated(x, codon, table):\n",
    "            data += codon\n",
    "    return data"
   ]
  },
  {
   "cell_type": "code",
   "execution_count": 370,
   "id": "5d375202",
   "metadata": {},
   "outputs": [],
   "source": [
    "test_seq = Seq('ACGTTCGAAGGACATCATACCAAAGTC')"
   ]
  },
  {
   "cell_type": "markdown",
   "id": "2dd947ff",
   "metadata": {},
   "source": [
    "## Pregunta 3"
   ]
  },
  {
   "cell_type": "markdown",
   "id": "08bd74d0",
   "metadata": {},
   "source": [
    "### a)"
   ]
  },
  {
   "cell_type": "code",
   "execution_count": 361,
   "id": "14399848",
   "metadata": {},
   "outputs": [],
   "source": [
    "import random\n",
    "def randomCodons(seq, table=1):\n",
    "    i = 0\n",
    "    new_seq = ''\n",
    "    while i < len(seq):\n",
    "        cod = seq[i:i+3]\n",
    "        alt_codons = altcodons(cod, 1)\n",
    "        new_codon = alt_codons[random.randint(0, len(alt_codons)-1)]\n",
    "        new_seq += new_codon\n",
    "        i += 3\n",
    "    return Seq(new_seq)"
   ]
  },
  {
   "cell_type": "code",
   "execution_count": 371,
   "id": "b33d76ae",
   "metadata": {
    "scrolled": true
   },
   "outputs": [
    {
     "data": {
      "text/plain": [
       "Seq('ACTTTCGAAGGTCATCACACGAAGGTG')"
      ]
     },
     "execution_count": 371,
     "metadata": {},
     "output_type": "execute_result"
    }
   ],
   "source": [
    "randomCodons(test_seq)"
   ]
  },
  {
   "cell_type": "markdown",
   "id": "e5432e25",
   "metadata": {},
   "source": [
    "### b)"
   ]
  },
  {
   "cell_type": "code",
   "execution_count": 372,
   "id": "824b71f9",
   "metadata": {},
   "outputs": [],
   "source": [
    "from Bio.SeqUtils import GC\n",
    "def maxSeq(seq, table=1):\n",
    "    flag = False\n",
    "    seqCG = seq\n",
    "    mayorCG = 0\n",
    "    for i in range(0,1000):\n",
    "        new_seq = randomCodons(seqCG)\n",
    "        valCG = GC(new_seq)\n",
    "        if valCG > mayorCG:\n",
    "            mayorCG = valCG\n",
    "            seqCG = new_seq\n",
    "    return seqCG"
   ]
  },
  {
   "cell_type": "code",
   "execution_count": 373,
   "id": "ddb65238",
   "metadata": {
    "scrolled": true
   },
   "outputs": [
    {
     "data": {
      "text/plain": [
       "Seq('ACGTTCGAGGGGCACCACACCAAGGTC')"
      ]
     },
     "execution_count": 373,
     "metadata": {},
     "output_type": "execute_result"
    }
   ],
   "source": [
    "maxSeq(test_seq)"
   ]
  },
  {
   "cell_type": "markdown",
   "id": "f20c0641",
   "metadata": {},
   "source": [
    "### c)"
   ]
  },
  {
   "cell_type": "code",
   "execution_count": 376,
   "id": "b55cb91a",
   "metadata": {},
   "outputs": [],
   "source": [
    "from Bio import SeqIO\n",
    "record = SeqIO.read(\"cds.fna\", \"fasta\")\n",
    "rand_seq = randomCodons(record.seq)\n",
    "max_seq = maxSeq(record.seq)\n",
    "\n",
    "record2 = SeqRecord(\n",
    "        Seq(rand_seq),\n",
    "        id=record.id,\n",
    "        name=record.name,\n",
    "        description=record.description,\n",
    "    )\n",
    "    \n",
    "with open(\"cds_random.fna\", \"w\") as output_handle:\n",
    "    SeqIO.write(record2, output_handle, \"fasta\")\n",
    "        \n",
    "record3 = SeqRecord(\n",
    "        Seq(max_seq),\n",
    "        id=record.id,\n",
    "        name=record.name,\n",
    "        description=record.description,\n",
    "    )\n",
    "    \n",
    "with open(\"cds_maxGC.fna\", \"w\") as output_handle:\n",
    "    SeqIO.write(record3, output_handle, \"fasta\")"
   ]
  },
  {
   "cell_type": "markdown",
   "id": "df786c7f",
   "metadata": {},
   "source": [
    "### d)"
   ]
  },
  {
   "cell_type": "markdown",
   "id": "fb3c81b7",
   "metadata": {},
   "source": [
    "Se podría utilizar la función GC de Bio.SeqUtils que entrega el porcentaje de G y C para una secuencia en particular.\n",
    "Entregando como parámetro el porcentaje buscado y una secuencia, luego se itera utilizando GC sobre la secuencia, una vez pasada\n",
    "por randomCodons() para obtener su valor. Si el valor GC se encuentra dentro de un rango cercano al \n",
    "porcentaje deseado se retorna la secuencia que entrego ese porcentaje"
   ]
  },
  {
   "cell_type": "markdown",
   "id": "ab39d8c6",
   "metadata": {},
   "source": [
    "## Pregunta 4"
   ]
  },
  {
   "cell_type": "code",
   "execution_count": 283,
   "id": "3a1f44c6",
   "metadata": {},
   "outputs": [],
   "source": [
    "from Bio import SeqIO\n",
    "from Bio.SeqUtils import GC\n",
    "\n",
    "record = SeqIO.read(\"NC_005816.fna\", \"fasta\")\n",
    "table = 1\n",
    "min_pro_len = 100"
   ]
  },
  {
   "cell_type": "code",
   "execution_count": 284,
   "id": "03d73df1",
   "metadata": {},
   "outputs": [
    {
     "name": "stdout",
     "output_type": "stream",
     "text": [
      "ORFs con mayor porcentaje G+C:\n",
      "(32.773109243697476, Seq('RALTGLSAPGIRSQTSCDRLRELRYVPVSLSASKRAWMLFWSSSASSCSRSHMA...PLQ'))\n",
      "(20.317460317460316, Seq('GCLMKKSSIVATIITILSGSANAASSQLIPNISPDSFTVAASTGMLSGKSHEML...YRF'))\n",
      "(18.42105263157895, Seq('QGSGYAFPHASILSGIAMSHFYFLVLHAVKQGFIFGDAKVRTRHINHRFSPYHT...CSD'))\n",
      "ORFs con menor porcentaje G+C:\n",
      "(10.4, Seq('WGKLQVIGLSMWMVLFSQRFDDWLNEQEDALQEKVLADLKKLQVYGPELPRPYA...ESK'))\n",
      "(11.830985915492958, Seq('NQIQGVICSPDSGEFMVTFETVMEIKILHKQGMSSRAIARELGISRNTVKRYLQ...GVA'))\n",
      "(12.280701754385966, Seq('KSGELRQTPPASSTLHLRLILQRSGVMMELQHQRLMALAGQLQLESLISAAPAL...NPE'))\n"
     ]
    }
   ],
   "source": [
    "ls_orf = []\n",
    "\n",
    "for strand, nuc in [(+1, record.seq), (-1, record.seq.reverse_complement())]:\n",
    "    for frame in range(3):\n",
    "        length = 3 * ((len(record)-frame) // 3) #Multiple of three\n",
    "        for pro in nuc[frame:frame+length].translate(table).split(\"*\"):\n",
    "            if len(pro) >= min_pro_len:\n",
    "                #print(\"%s...%s - length %i, strand %i, frame %i\" % (pro[:30], pro[-3:], len(pro), strand, frame))\n",
    "                ls_orf.append((GC(pro), pro))\n",
    "\n",
    "ls_orf.sort(reverse=True)\n",
    "print(\"ORFs con mayor porcentaje G+C:\")\n",
    "for i in range(3):\n",
    "    print(ls_orf[i])\n",
    "    \n",
    "print(\"ORFs con menor porcentaje G+C:\")\n",
    "for i in range(3):\n",
    "    print(ls_orf[-(i+1)])"
   ]
  },
  {
   "cell_type": "markdown",
   "id": "79741aa8",
   "metadata": {},
   "source": [
    "## Pregunta 5"
   ]
  },
  {
   "cell_type": "markdown",
   "id": "86da23f7",
   "metadata": {},
   "source": [
    "### a)"
   ]
  },
  {
   "cell_type": "code",
   "execution_count": 357,
   "id": "da6494b1",
   "metadata": {
    "scrolled": true
   },
   "outputs": [],
   "source": [
    "import random\n",
    "from Bio.SeqRecord import SeqRecord\n",
    "\n",
    "def reorderNucleotidos(file):\n",
    "    record = SeqIO.read(file, \"fasta\")\n",
    "    print(record)\n",
    "    seq = [i for i in record.seq]\n",
    "    random.shuffle(seq)\n",
    "    seq_shuffle = ''.join(seq)\n",
    "    \n",
    "    record2 = SeqRecord(\n",
    "        Seq(seq_shuffle),\n",
    "        id=record.id,\n",
    "        name=record.name,\n",
    "        description=record.description + \" shuffle\",\n",
    "    )\n",
    "    \n",
    "    with open(file[:-4] + \"_shuffle\"+ \".fna\", \"w\") as output_handle:\n",
    "        SeqIO.write(record2, output_handle, \"fasta\")"
   ]
  },
  {
   "cell_type": "markdown",
   "id": "ef508bc6",
   "metadata": {},
   "source": [
    "### b)"
   ]
  },
  {
   "cell_type": "code",
   "execution_count": 358,
   "id": "fbc5e710",
   "metadata": {
    "scrolled": false
   },
   "outputs": [
    {
     "name": "stdout",
     "output_type": "stream",
     "text": [
      "ID: gi|10955253|ref|NC_002119.1|\n",
      "Name: gi|10955253|ref|NC_002119.1|\n",
      "Description: gi|10955253|ref|NC_002119.1| Escherichia coli plasmid CloDF13, complete sequence\n",
      "Number of features: 0\n",
      "Seq('AACGTAAAATGTTCAGCGAAAAACCGACATGGTTCACCTATCCTGATAATTGAT...GTT')\n"
     ]
    }
   ],
   "source": [
    "reorderNucleotidos('plasmido.fna')"
   ]
  },
  {
   "cell_type": "markdown",
   "id": "79b4ebb5",
   "metadata": {},
   "source": [
    "## c)"
   ]
  },
  {
   "cell_type": "markdown",
   "id": "ca914c85",
   "metadata": {},
   "source": [
    "Genoma original\n",
    "<img src=\"genoma_original.png\">"
   ]
  },
  {
   "cell_type": "markdown",
   "id": "9f18e97c",
   "metadata": {},
   "source": [
    "Genoma aleatorizado\n",
    "<img src=\"aleatorio.png\">"
   ]
  },
  {
   "cell_type": "markdown",
   "id": "01c51006",
   "metadata": {},
   "source": [
    "Evidentemente el genoma original tiene más secuencias encontradas, una diferencia que hay es el largo. En la forma aleatorizada, las secuencias tienen un largo de 200 aproximadamente, mientras que en la original hay de largo sobre 500."
   ]
  }
 ],
 "metadata": {
  "kernelspec": {
   "display_name": "Python 3 (ipykernel)",
   "language": "python",
   "name": "python3"
  },
  "language_info": {
   "codemirror_mode": {
    "name": "ipython",
    "version": 3
   },
   "file_extension": ".py",
   "mimetype": "text/x-python",
   "name": "python",
   "nbconvert_exporter": "python",
   "pygments_lexer": "ipython3",
   "version": "3.9.6"
  }
 },
 "nbformat": 4,
 "nbformat_minor": 5
}
