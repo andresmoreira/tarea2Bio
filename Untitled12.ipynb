{
  "nbformat": 4,
  "nbformat_minor": 0,
  "metadata": {
    "colab": {
      "name": "Untitled12.ipynb",
      "provenance": []
    },
    "kernelspec": {
      "name": "python3",
      "display_name": "Python 3"
    },
    "language_info": {
      "name": "python"
    }
  },
  "cells": [
    {
      "cell_type": "code",
      "execution_count": 1,
      "metadata": {
        "id": "vCPaYLfbTx7t"
      },
      "outputs": [],
      "source": [
        "import networkx as nx\n",
        "from networkx.algorithms.community import label_propagation_communities\n",
        "import networkx.algorithms.community as nx_comm\n"
      ]
    },
    {
      "cell_type": "code",
      "source": [
        "G=nx.read_pajek(\"05.net\")\n",
        "G = G.to_undirected()"
      ],
      "metadata": {
        "id": "fapHiPg7T3VF"
      },
      "execution_count": 4,
      "outputs": []
    },
    {
      "cell_type": "code",
      "source": [
        "c= list(label_propagation_communities(G))"
      ],
      "metadata": {
        "id": "T1Fb1md1UGRT"
      },
      "execution_count": 5,
      "outputs": []
    },
    {
      "cell_type": "code",
      "source": [
        "nx_comm.modularity(G,c)"
      ],
      "metadata": {
        "colab": {
          "base_uri": "https://localhost:8080/"
        },
        "id": "PvWzxWJxUGUO",
        "outputId": "38f18a85-ec4c-4a90-c134-bb7ac2f5ce5d"
      },
      "execution_count": 6,
      "outputs": [
        {
          "output_type": "execute_result",
          "data": {
            "text/plain": [
              "0.4262327164526105"
            ]
          },
          "metadata": {},
          "execution_count": 6
        }
      ]
    },
    {
      "cell_type": "code",
      "source": [
        "G1=nx.configuration_model([d for v, d in G.degree()]) "
      ],
      "metadata": {
        "id": "wCY_FmbyUGXS"
      },
      "execution_count": 13,
      "outputs": []
    },
    {
      "cell_type": "code",
      "source": [
        "c1=list(label_propagation_communities(G1))\n",
        "nx_comm.modularity(G1,c1)"
      ],
      "metadata": {
        "colab": {
          "base_uri": "https://localhost:8080/"
        },
        "id": "BEEW2n8BUGaA",
        "outputId": "6b560954-354b-4a23-86ac-9b0831d6272f"
      },
      "execution_count": 14,
      "outputs": [
        {
          "output_type": "execute_result",
          "data": {
            "text/plain": [
              "0.00023922907944780446"
            ]
          },
          "metadata": {},
          "execution_count": 14
        }
      ]
    },
    {
      "cell_type": "code",
      "source": [
        "giant= max(nx.connected_components(G), key=len)"
      ],
      "metadata": {
        "id": "svDlUwsWUGdW"
      },
      "execution_count": 15,
      "outputs": []
    },
    {
      "cell_type": "code",
      "source": [
        "S = G.subgraph(max(nx.connected_components(G),key=len)).copy"
      ],
      "metadata": {
        "id": "sAn7XnQTU3wX"
      },
      "execution_count": 17,
      "outputs": []
    },
    {
      "cell_type": "code",
      "source": [
        "Gsimp=nx.Graph()\n",
        "for u,v,data in G.edges(data=True):\n",
        "  if not Gsimp.has_edge(u,v):\n",
        "    Gsimp.add_edge(u,v)"
      ],
      "metadata": {
        "id": "5Rw-A9HlVx7j"
      },
      "execution_count": 31,
      "outputs": []
    },
    {
      "cell_type": "code",
      "source": [
        "nx.degree_pearson_correlation_coefficient(G)"
      ],
      "metadata": {
        "colab": {
          "base_uri": "https://localhost:8080/"
        },
        "id": "zddBoLvqWKjY",
        "outputId": "c906600f-7767-4272-c375-5f7dca5a1579"
      },
      "execution_count": 32,
      "outputs": [
        {
          "output_type": "execute_result",
          "data": {
            "text/plain": [
              "-0.22117675119889957"
            ]
          },
          "metadata": {},
          "execution_count": 32
        }
      ]
    }
  ]
}